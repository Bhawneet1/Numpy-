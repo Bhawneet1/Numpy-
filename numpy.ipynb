{
 "cells": [
  {
   "cell_type": "code",
   "execution_count": 2,
   "id": "3c4cbdd2-751f-4815-b89d-58d6371c852f",
   "metadata": {},
   "outputs": [],
   "source": [
    "a=12"
   ]
  },
  {
   "cell_type": "code",
   "execution_count": 3,
   "id": "f029d46a-4064-4289-a460-282952876ac4",
   "metadata": {},
   "outputs": [
    {
     "name": "stdout",
     "output_type": "stream",
     "text": [
      "12\n"
     ]
    }
   ],
   "source": [
    "print(a)"
   ]
  },
  {
   "cell_type": "code",
   "execution_count": 4,
   "id": "162a24da-ec82-48dd-a952-83fcd14e8674",
   "metadata": {},
   "outputs": [],
   "source": [
    "def hello():\n",
    "    print(\"hello how are you\")"
   ]
  },
  {
   "cell_type": "code",
   "execution_count": 5,
   "id": "25d9fb54-0297-4ec4-8ff6-f4b44e5b6c26",
   "metadata": {},
   "outputs": [
    {
     "name": "stdout",
     "output_type": "stream",
     "text": [
      "hello how are you\n"
     ]
    }
   ],
   "source": [
    "hello()"
   ]
  },
  {
   "cell_type": "code",
   "execution_count": 6,
   "id": "ab6f3c09-9276-4c2e-9598-8b7bff1d2f1e",
   "metadata": {},
   "outputs": [],
   "source": [
    "# python does not had array therefore we get numpy\n",
    "# numeric and numarray combine to give numpy\n",
    "# written in C\n",
    "# compiled and super fast\n"
   ]
  },
  {
   "cell_type": "code",
   "execution_count": 7,
   "id": "e1ca70bd-26cf-4d21-902d-8c413f010725",
   "metadata": {},
   "outputs": [],
   "source": [
    "# array v/s list\n",
    "# array is homogeneous(one datatype)\n",
    "# list is heterogeneous(multiple datatypes)\n",
    "# list slow\n",
    "# array is fast as written in C compile type \n",
    "# List more memory\n",
    "# array less memory\n",
    "# vector operations in array is faster than list\n",
    "\n"
   ]
  },
  {
   "cell_type": "code",
   "execution_count": 8,
   "id": "095fee71-7f2e-450a-a1a8-48809cf276c1",
   "metadata": {},
   "outputs": [],
   "source": [
    "import numpy as np"
   ]
  },
  {
   "cell_type": "markdown",
   "id": "30af34ad-c8c5-435c-8f7e-55a6afc0aded",
   "metadata": {},
   "source": [
    "### Basic array creation\n"
   ]
  },
  {
   "cell_type": "code",
   "execution_count": 9,
   "id": "7a4b2720-cdfc-4b66-8ef6-e6db9ea762bf",
   "metadata": {},
   "outputs": [],
   "source": [
    "arr = np.array([1,2,3,4])"
   ]
  },
  {
   "cell_type": "code",
   "execution_count": 10,
   "id": "75b59a91-2275-4762-b623-f160aa9ae33d",
   "metadata": {},
   "outputs": [
    {
     "name": "stdout",
     "output_type": "stream",
     "text": [
      "[1 2 3 4]\n"
     ]
    }
   ],
   "source": [
    "print(arr)"
   ]
  },
  {
   "cell_type": "code",
   "execution_count": 11,
   "id": "f0ce7ac5-3bd0-4e19-93a6-b6ab422b0c65",
   "metadata": {},
   "outputs": [],
   "source": [
    "a=[1,2,3,4,5,\"hello\"]"
   ]
  },
  {
   "cell_type": "code",
   "execution_count": 12,
   "id": "73de293a-2b39-48a8-875a-a873d6e80897",
   "metadata": {},
   "outputs": [
    {
     "data": {
      "text/plain": [
       "array(['1', '2', '3', '4', '5', 'hello'], dtype='<U21')"
      ]
     },
     "execution_count": 12,
     "metadata": {},
     "output_type": "execute_result"
    }
   ],
   "source": [
    "np.array(a)\n",
    "# convert everything to string\n",
    "# if no string and float convert everything to float"
   ]
  },
  {
   "cell_type": "code",
   "execution_count": 13,
   "id": "07b44aed-8d2e-4d57-b425-3b52f3661c52",
   "metadata": {},
   "outputs": [],
   "source": [
    "b = [1,2,3.5]"
   ]
  },
  {
   "cell_type": "code",
   "execution_count": 14,
   "id": "07793957-6896-497e-97f8-075df067b7bf",
   "metadata": {},
   "outputs": [
    {
     "data": {
      "text/plain": [
       "array([1. , 2. , 3.5])"
      ]
     },
     "execution_count": 14,
     "metadata": {},
     "output_type": "execute_result"
    }
   ],
   "source": [
    "np.array(b)"
   ]
  },
  {
   "cell_type": "code",
   "execution_count": 15,
   "id": "54c889d9-b10f-45ed-b4bf-e473f1b69c64",
   "metadata": {},
   "outputs": [],
   "source": [
    "# no 2 dimentional list whereas we have 2 dimentional array"
   ]
  },
  {
   "cell_type": "code",
   "execution_count": 16,
   "id": "ebbc895c-0417-46ac-a34e-3b57eb98b08a",
   "metadata": {},
   "outputs": [
    {
     "data": {
      "text/plain": [
       "[[1, 2, 3], [4, 5, 6], [7, 8, 9]]"
      ]
     },
     "execution_count": 16,
     "metadata": {},
     "output_type": "execute_result"
    }
   ],
   "source": [
    " l = [[1,2,3],[4,5,6],[7,8,9]]\n",
    "l"
   ]
  },
  {
   "cell_type": "code",
   "execution_count": 17,
   "id": "fd30c728-455c-46e6-b01d-ac8f7686120c",
   "metadata": {},
   "outputs": [
    {
     "data": {
      "text/plain": [
       "array([[1, 2, 3],\n",
       "       [4, 5, 6],\n",
       "       [7, 8, 9]])"
      ]
     },
     "execution_count": 17,
     "metadata": {},
     "output_type": "execute_result"
    }
   ],
   "source": [
    "np.array(l)"
   ]
  },
  {
   "cell_type": "code",
   "execution_count": 18,
   "id": "a5a03ea5-6765-4a94-a10d-07cbf11243d4",
   "metadata": {},
   "outputs": [],
   "source": [
    "# above 2 dimentional array is tensor"
   ]
  },
  {
   "cell_type": "markdown",
   "id": "489801d6-b711-4784-be8d-17b4581b5919",
   "metadata": {},
   "source": [
    "### Array generation functions"
   ]
  },
  {
   "cell_type": "code",
   "execution_count": 19,
   "id": "bb45ae80-2f6c-474c-9806-4c24ef5c1027",
   "metadata": {},
   "outputs": [
    {
     "data": {
      "text/plain": [
       "array([ 1,  2,  3,  4,  5,  6,  7,  8,  9, 10])"
      ]
     },
     "execution_count": 19,
     "metadata": {},
     "output_type": "execute_result"
    }
   ],
   "source": [
    "np.arange(1,11) \n",
    "# array from 1 to 10"
   ]
  },
  {
   "cell_type": "code",
   "execution_count": 20,
   "id": "5624acd4-bf14-4601-84de-6c8c50e09c6c",
   "metadata": {},
   "outputs": [
    {
     "data": {
      "text/plain": [
       "array([ 1,  2,  3,  4,  5,  6,  7,  8,  9, 10])"
      ]
     },
     "execution_count": 20,
     "metadata": {},
     "output_type": "execute_result"
    }
   ],
   "source": [
    "arr = np.arange(1,11)\n",
    "arr"
   ]
  },
  {
   "cell_type": "code",
   "execution_count": 21,
   "id": "648d2b9e-6c96-4a8f-bdc4-5b9a7b72174c",
   "metadata": {},
   "outputs": [
    {
     "data": {
      "text/plain": [
       "array([0., 0., 0., 0., 0., 0.])"
      ]
     },
     "execution_count": 21,
     "metadata": {},
     "output_type": "execute_result"
    }
   ],
   "source": [
    "# zeros array\n",
    "arr = np.zeros(6)# 6 zeros in a row\n",
    "arr"
   ]
  },
  {
   "cell_type": "code",
   "execution_count": 22,
   "id": "10bece00-89c1-4643-afa0-910315d1a7ef",
   "metadata": {},
   "outputs": [
    {
     "data": {
      "text/plain": [
       "array([[0., 0., 0., 0., 0., 0., 0., 0.],\n",
       "       [0., 0., 0., 0., 0., 0., 0., 0.],\n",
       "       [0., 0., 0., 0., 0., 0., 0., 0.],\n",
       "       [0., 0., 0., 0., 0., 0., 0., 0.]])"
      ]
     },
     "execution_count": 22,
     "metadata": {},
     "output_type": "execute_result"
    }
   ],
   "source": [
    "# multi dim zeros array\n",
    "arr = np.zeros((4,8))\n",
    "arr\n",
    "# ((rows,cols))"
   ]
  },
  {
   "cell_type": "code",
   "execution_count": 23,
   "id": "1b8a8bb2-4a36-4e6c-b67a-b9c49d4f05fb",
   "metadata": {},
   "outputs": [
    {
     "data": {
      "text/plain": [
       "array([[1., 1., 1., 1., 1., 1.],\n",
       "       [1., 1., 1., 1., 1., 1.],\n",
       "       [1., 1., 1., 1., 1., 1.],\n",
       "       [1., 1., 1., 1., 1., 1.],\n",
       "       [1., 1., 1., 1., 1., 1.],\n",
       "       [1., 1., 1., 1., 1., 1.]])"
      ]
     },
     "execution_count": 23,
     "metadata": {},
     "output_type": "execute_result"
    }
   ],
   "source": [
    "# unit matrix\n",
    "arr = np.ones((6,6))\n",
    "arr"
   ]
  },
  {
   "cell_type": "code",
   "execution_count": 24,
   "id": "105a6140-c862-4506-8ab8-e1fa1b44f51a",
   "metadata": {},
   "outputs": [
    {
     "data": {
      "text/plain": [
       "array([1., 5.])"
      ]
     },
     "execution_count": 24,
     "metadata": {},
     "output_type": "execute_result"
    }
   ],
   "source": [
    "arr = np.linspace(1,5,2) #linear space\n",
    "arr\n",
    "# same space between elements in between 1 and 5 we need to get 2 elements therefore 1 \n",
    "# and 5"
   ]
  },
  {
   "cell_type": "code",
   "execution_count": 25,
   "id": "20d97ca6-cc17-4e72-9266-c68476625891",
   "metadata": {},
   "outputs": [
    {
     "data": {
      "text/plain": [
       "array([1., 3., 5.])"
      ]
     },
     "execution_count": 25,
     "metadata": {},
     "output_type": "execute_result"
    }
   ],
   "source": [
    "arr = np.linspace(1,5,3)\n",
    "arr\n",
    "#array([1., 3., 5.])"
   ]
  },
  {
   "cell_type": "code",
   "execution_count": 26,
   "id": "b7742fdc-9719-463f-96bc-c2fe967f7991",
   "metadata": {},
   "outputs": [
    {
     "data": {
      "text/plain": [
       "array([1.        , 2.33333333, 3.66666667, 5.        ])"
      ]
     },
     "execution_count": 26,
     "metadata": {},
     "output_type": "execute_result"
    }
   ],
   "source": [
    "arr = np.linspace(1,5,4)\n",
    "arr\n",
    "#array([1.        , 2.33333333, 3.66666667, 5.        ])"
   ]
  },
  {
   "cell_type": "code",
   "execution_count": 27,
   "id": "26672885-45e2-4f6e-9f33-c6e979c513e6",
   "metadata": {},
   "outputs": [
    {
     "data": {
      "text/plain": [
       "array([0.        , 0.01010101, 0.02020202, 0.03030303, 0.04040404,\n",
       "       0.05050505, 0.06060606, 0.07070707, 0.08080808, 0.09090909,\n",
       "       0.1010101 , 0.11111111, 0.12121212, 0.13131313, 0.14141414,\n",
       "       0.15151515, 0.16161616, 0.17171717, 0.18181818, 0.19191919,\n",
       "       0.2020202 , 0.21212121, 0.22222222, 0.23232323, 0.24242424,\n",
       "       0.25252525, 0.26262626, 0.27272727, 0.28282828, 0.29292929,\n",
       "       0.3030303 , 0.31313131, 0.32323232, 0.33333333, 0.34343434,\n",
       "       0.35353535, 0.36363636, 0.37373737, 0.38383838, 0.39393939,\n",
       "       0.4040404 , 0.41414141, 0.42424242, 0.43434343, 0.44444444,\n",
       "       0.45454545, 0.46464646, 0.47474747, 0.48484848, 0.49494949,\n",
       "       0.50505051, 0.51515152, 0.52525253, 0.53535354, 0.54545455,\n",
       "       0.55555556, 0.56565657, 0.57575758, 0.58585859, 0.5959596 ,\n",
       "       0.60606061, 0.61616162, 0.62626263, 0.63636364, 0.64646465,\n",
       "       0.65656566, 0.66666667, 0.67676768, 0.68686869, 0.6969697 ,\n",
       "       0.70707071, 0.71717172, 0.72727273, 0.73737374, 0.74747475,\n",
       "       0.75757576, 0.76767677, 0.77777778, 0.78787879, 0.7979798 ,\n",
       "       0.80808081, 0.81818182, 0.82828283, 0.83838384, 0.84848485,\n",
       "       0.85858586, 0.86868687, 0.87878788, 0.88888889, 0.8989899 ,\n",
       "       0.90909091, 0.91919192, 0.92929293, 0.93939394, 0.94949495,\n",
       "       0.95959596, 0.96969697, 0.97979798, 0.98989899, 1.        ])"
      ]
     },
     "execution_count": 27,
     "metadata": {},
     "output_type": "execute_result"
    }
   ],
   "source": [
    "arr = np.linspace(0,1,100)\n",
    "arr"
   ]
  },
  {
   "cell_type": "markdown",
   "id": "02fa09a5-6e42-4b4d-bc9c-55e4448cc5d0",
   "metadata": {},
   "source": [
    "### Random number generation"
   ]
  },
  {
   "cell_type": "code",
   "execution_count": 28,
   "id": "4a66e1aa-50b7-4f4c-9213-f3ca0f4cfeb4",
   "metadata": {},
   "outputs": [
    {
     "data": {
      "text/plain": [
       "array([0.75815505, 0.42017925, 0.19567096, 0.62128209, 0.52073856])"
      ]
     },
     "execution_count": 28,
     "metadata": {},
     "output_type": "execute_result"
    }
   ],
   "source": [
    "# we have random in np\n",
    "np.random.rand(5)\n",
    "# 5 random elements between 0 and 1\n",
    "# 0 and 1 is normalization\n",
    "# between -3 and 3 is standardization"
   ]
  },
  {
   "cell_type": "code",
   "execution_count": 29,
   "id": "3520e9b0-ac17-4bd5-acce-b5a551bd6475",
   "metadata": {},
   "outputs": [
    {
     "data": {
      "text/plain": [
       "array([ 0.35853892, -1.40041051, -0.19462095,  0.11031443,  1.72026154,\n",
       "        1.38931493,  0.97925864,  0.05032809, -0.56370004, -1.33594225])"
      ]
     },
     "execution_count": 29,
     "metadata": {},
     "output_type": "execute_result"
    }
   ],
   "source": [
    "np.random.randn(10)\n",
    "#standardization between -3 and 3"
   ]
  },
  {
   "cell_type": "code",
   "execution_count": 30,
   "id": "da666c7a-2287-4102-b2f8-ab2ceb0d9774",
   "metadata": {},
   "outputs": [
    {
     "data": {
      "text/plain": [
       "3"
      ]
     },
     "execution_count": 30,
     "metadata": {},
     "output_type": "execute_result"
    }
   ],
   "source": [
    "np.random.randint(6)\n",
    "# generate a random number between 0 and 6"
   ]
  },
  {
   "cell_type": "code",
   "execution_count": 31,
   "id": "d9dbafe7-5fdd-421f-9ec9-a7897e8ef918",
   "metadata": {},
   "outputs": [
    {
     "data": {
      "text/plain": [
       "array([15, 15, 12, 11, 14, 11, 12, 13, 15, 10], dtype=int32)"
      ]
     },
     "execution_count": 31,
     "metadata": {},
     "output_type": "execute_result"
    }
   ],
   "source": [
    "np.random.randint(10,20,10)\n",
    "# between range 10 and 20 generate 10 random numbers"
   ]
  },
  {
   "cell_type": "markdown",
   "id": "0015d32e-b96c-4357-bab9-db2247c5ac97",
   "metadata": {},
   "source": [
    "### Array Attributes"
   ]
  },
  {
   "cell_type": "code",
   "execution_count": 32,
   "id": "87a1cfe3-284a-45d9-82c5-cb2e51eb0d42",
   "metadata": {},
   "outputs": [
    {
     "data": {
      "text/plain": [
       "array([[1, 2, 3],\n",
       "       [4, 5, 6],\n",
       "       [7, 8, 9]])"
      ]
     },
     "execution_count": 32,
     "metadata": {},
     "output_type": "execute_result"
    }
   ],
   "source": [
    "arr = np.array([[1,2,3],[4,5,6],[7,8,9]])\n",
    "arr"
   ]
  },
  {
   "cell_type": "code",
   "execution_count": 33,
   "id": "a85ae90d-a6b5-4e8e-95e0-b71288438828",
   "metadata": {},
   "outputs": [
    {
     "data": {
      "text/plain": [
       "(3, 3)"
      ]
     },
     "execution_count": 33,
     "metadata": {},
     "output_type": "execute_result"
    }
   ],
   "source": [
    "arr.shape\n",
    "# attribute hai to no parenthesis\n",
    "# (rows,cols)"
   ]
  },
  {
   "cell_type": "code",
   "execution_count": 34,
   "id": "634259c9-cbad-4677-b2a3-14a489b59fda",
   "metadata": {},
   "outputs": [
    {
     "data": {
      "text/plain": [
       "9"
      ]
     },
     "execution_count": 34,
     "metadata": {},
     "output_type": "execute_result"
    }
   ],
   "source": [
    "arr.size\n",
    "# no. of elements"
   ]
  },
  {
   "cell_type": "code",
   "execution_count": 35,
   "id": "2c1cf86c-0381-4308-b2a3-1c1d1fbdd01a",
   "metadata": {},
   "outputs": [
    {
     "data": {
      "text/plain": [
       "dtype('int64')"
      ]
     },
     "execution_count": 35,
     "metadata": {},
     "output_type": "execute_result"
    }
   ],
   "source": [
    "arr.dtype\n",
    "# datatypes"
   ]
  },
  {
   "cell_type": "markdown",
   "id": "b0c22603-6b12-42b9-84e5-bb1a9ae4d115",
   "metadata": {},
   "source": [
    "### Array methods"
   ]
  },
  {
   "cell_type": "code",
   "execution_count": 36,
   "id": "a99f5d70-b1f8-4a1a-96fe-d22c264c0579",
   "metadata": {},
   "outputs": [
    {
     "data": {
      "text/plain": [
       "array([[1, 2, 3],\n",
       "       [4, 5, 6],\n",
       "       [7, 8, 9]])"
      ]
     },
     "execution_count": 36,
     "metadata": {},
     "output_type": "execute_result"
    }
   ],
   "source": [
    "arr\n"
   ]
  },
  {
   "cell_type": "code",
   "execution_count": 37,
   "id": "9b6fc02c-2570-4159-8175-db2f381d9623",
   "metadata": {},
   "outputs": [
    {
     "data": {
      "text/plain": [
       "np.int64(1)"
      ]
     },
     "execution_count": 37,
     "metadata": {},
     "output_type": "execute_result"
    }
   ],
   "source": [
    "arr.min()\n",
    "# index of the minimum element np.int64(1)"
   ]
  },
  {
   "cell_type": "code",
   "execution_count": 38,
   "id": "d2836b17-4877-4b9c-afae-9537f91dec5e",
   "metadata": {},
   "outputs": [
    {
     "data": {
      "text/plain": [
       "np.int64(9)"
      ]
     },
     "execution_count": 38,
     "metadata": {},
     "output_type": "execute_result"
    }
   ],
   "source": [
    "arr.max() #np.int64(9) 9th element"
   ]
  },
  {
   "cell_type": "code",
   "execution_count": 39,
   "id": "d60af3bf-a726-4db4-b0e1-6d7c1e727b87",
   "metadata": {},
   "outputs": [
    {
     "data": {
      "text/plain": [
       "np.int64(45)"
      ]
     },
     "execution_count": 39,
     "metadata": {},
     "output_type": "execute_result"
    }
   ],
   "source": [
    "arr.sum() #np.int64(45) sum of all elements"
   ]
  },
  {
   "cell_type": "code",
   "execution_count": 40,
   "id": "eb97add3-0a43-473e-862d-c85c71dc4efb",
   "metadata": {},
   "outputs": [
    {
     "data": {
      "text/plain": [
       "array([12, 15, 18])"
      ]
     },
     "execution_count": 40,
     "metadata": {},
     "output_type": "execute_result"
    }
   ],
   "source": [
    "np.sum(arr,axis=0)\n",
    "#column-wise sum axis =0\n",
    "#row-wise sum axis =1\n"
   ]
  },
  {
   "cell_type": "code",
   "execution_count": 41,
   "id": "8eb7b8e1-e38a-43f8-9fbb-b7d9d010fce8",
   "metadata": {},
   "outputs": [
    {
     "data": {
      "text/plain": [
       "array([ 6, 15, 24])"
      ]
     },
     "execution_count": 41,
     "metadata": {},
     "output_type": "execute_result"
    }
   ],
   "source": [
    "np.sum(arr,axis=1)"
   ]
  },
  {
   "cell_type": "code",
   "execution_count": 42,
   "id": "49533768-7c8f-4d88-a60f-b5ac8f4c7646",
   "metadata": {},
   "outputs": [
    {
     "data": {
      "text/plain": [
       "np.float64(5.0)"
      ]
     },
     "execution_count": 42,
     "metadata": {},
     "output_type": "execute_result"
    }
   ],
   "source": [
    "arr.mean() #np.float64(5.0)"
   ]
  },
  {
   "cell_type": "code",
   "execution_count": 43,
   "id": "5a1647f6-a198-4d96-a412-4e01a35a2cbf",
   "metadata": {},
   "outputs": [
    {
     "data": {
      "text/plain": [
       "np.float64(2.581988897471611)"
      ]
     },
     "execution_count": 43,
     "metadata": {},
     "output_type": "execute_result"
    }
   ],
   "source": [
    "arr.std() # standard deviation"
   ]
  },
  {
   "cell_type": "code",
   "execution_count": 44,
   "id": "51a14a8b-51ef-44d1-99bd-e7b1e66a7d23",
   "metadata": {},
   "outputs": [
    {
     "data": {
      "text/plain": [
       "np.int64(8)"
      ]
     },
     "execution_count": 44,
     "metadata": {},
     "output_type": "execute_result"
    }
   ],
   "source": [
    "arr.argmax()\n",
    "# 9th element index 8 is min therefore output np.int64(8)"
   ]
  },
  {
   "cell_type": "code",
   "execution_count": 45,
   "id": "29008a54-631b-4eb3-b361-ab0d61c63ccf",
   "metadata": {},
   "outputs": [
    {
     "data": {
      "text/plain": [
       "np.int64(0)"
      ]
     },
     "execution_count": 45,
     "metadata": {},
     "output_type": "execute_result"
    }
   ],
   "source": [
    "arr.argmin() #np.int64(0)"
   ]
  },
  {
   "cell_type": "markdown",
   "id": "69b812d5-ced9-410b-a618-bee09b789cbf",
   "metadata": {},
   "source": [
    "### Reshaping and Resizing"
   ]
  },
  {
   "cell_type": "code",
   "execution_count": 46,
   "id": "623acdd1-74c0-4d20-87ea-a972a049ceba",
   "metadata": {},
   "outputs": [
    {
     "data": {
      "text/plain": [
       "array([ 1,  2,  3,  4,  5,  6,  7,  8,  9, 10, 11, 12, 13, 14, 15, 16, 17,\n",
       "       18, 19, 20, 21, 22, 23, 24, 25, 26, 27, 28, 29, 30])"
      ]
     },
     "execution_count": 46,
     "metadata": {},
     "output_type": "execute_result"
    }
   ],
   "source": [
    "arr = np.arange(1,31)\n",
    "arr"
   ]
  },
  {
   "cell_type": "code",
   "execution_count": 47,
   "id": "01755aa5-9d6c-4328-95fb-b8c8ac32e51e",
   "metadata": {},
   "outputs": [],
   "source": [
    "arr = arr.reshape(6,5)\n",
    "# 6 rows and 5 columns\n",
    "# arranged row-wise \n",
    "#array([[ 1,  2,  3,  4,  5],\n",
    "       #[ 6,  7,  8,  9, 10],\n",
    "       #[11, 12, 13, 14, 15],\n",
    "       #[16, 17, 18, 19, 20],\n",
    "       #[21, 22, 23, 24, 25],\n",
    "       #[26, 27, 28, 29, 30]])"
   ]
  },
  {
   "cell_type": "code",
   "execution_count": 48,
   "id": "cc27f072-2437-4ae8-ae12-714b4ffe8045",
   "metadata": {},
   "outputs": [
    {
     "data": {
      "text/plain": [
       "array([[ 1,  2,  3,  4,  5],\n",
       "       [ 6,  7,  8,  9, 10],\n",
       "       [11, 12, 13, 14, 15],\n",
       "       [16, 17, 18, 19, 20],\n",
       "       [21, 22, 23, 24, 25],\n",
       "       [26, 27, 28, 29, 30]])"
      ]
     },
     "execution_count": 48,
     "metadata": {},
     "output_type": "execute_result"
    }
   ],
   "source": [
    "arr.resize(6,5)\n",
    "arr"
   ]
  },
  {
   "cell_type": "markdown",
   "id": "54aabf08-dceb-4b02-af25-4498ae6d244a",
   "metadata": {},
   "source": [
    "### Numpy Indexing and Slicing Of Vector\n"
   ]
  },
  {
   "cell_type": "code",
   "execution_count": 49,
   "id": "8de91d75-df87-41ae-b15f-8e5cd8f190ac",
   "metadata": {},
   "outputs": [
    {
     "data": {
      "text/plain": [
       "array([11, 12, 13, 14, 15, 16, 17, 18, 19, 20])"
      ]
     },
     "execution_count": 49,
     "metadata": {},
     "output_type": "execute_result"
    }
   ],
   "source": [
    "arr = np.arange(11,21)\n",
    "arr"
   ]
  },
  {
   "cell_type": "code",
   "execution_count": 50,
   "id": "15930601-6a42-4574-8e8d-1b802666e85e",
   "metadata": {},
   "outputs": [
    {
     "data": {
      "text/plain": [
       "np.int64(14)"
      ]
     },
     "execution_count": 50,
     "metadata": {},
     "output_type": "execute_result"
    }
   ],
   "source": [
    "arr[3]\n",
    "#indexing from 0 "
   ]
  },
  {
   "cell_type": "code",
   "execution_count": 51,
   "id": "22f9af6f-17e6-4695-b8ee-c79034d5f6ac",
   "metadata": {},
   "outputs": [
    {
     "data": {
      "text/plain": [
       "array([12, 13, 14, 15])"
      ]
     },
     "execution_count": 51,
     "metadata": {},
     "output_type": "execute_result"
    }
   ],
   "source": [
    "# slicing\n",
    "# get 12,13,14,15\n",
    "arr[1:5:1]"
   ]
  },
  {
   "cell_type": "code",
   "execution_count": 52,
   "id": "bf5b186b-7df1-4c2d-993a-5215530e5704",
   "metadata": {},
   "outputs": [
    {
     "data": {
      "text/plain": [
       "array([11, 12, 13, 14, 15])"
      ]
     },
     "execution_count": 52,
     "metadata": {},
     "output_type": "execute_result"
    }
   ],
   "source": [
    "arr[:5]\n",
    "# first value is 0\n",
    "# 11,12,13,14,15"
   ]
  },
  {
   "cell_type": "code",
   "execution_count": 53,
   "id": "76ccf05c-ee95-42c8-a4bb-66b469663f65",
   "metadata": {},
   "outputs": [
    {
     "data": {
      "text/plain": [
       "array([11, 12, 13, 14, 15, 16, 17, 18, 19, 20])"
      ]
     },
     "execution_count": 53,
     "metadata": {},
     "output_type": "execute_result"
    }
   ],
   "source": [
    "arr[:]\n",
    "# complete array"
   ]
  },
  {
   "cell_type": "code",
   "execution_count": 54,
   "id": "d49c0de4-87eb-4dba-b5e5-9a31f85719ba",
   "metadata": {},
   "outputs": [
    {
     "data": {
      "text/plain": [
       "array([14, 15, 16, 17, 18, 19, 20])"
      ]
     },
     "execution_count": 54,
     "metadata": {},
     "output_type": "execute_result"
    }
   ],
   "source": [
    "arr[3:]\n",
    "# third to end"
   ]
  },
  {
   "cell_type": "code",
   "execution_count": 55,
   "id": "8fed0434-8824-4338-bb28-66b39f3f3def",
   "metadata": {},
   "outputs": [
    {
     "data": {
      "text/plain": [
       "array([14, 16, 18, 20])"
      ]
     },
     "execution_count": 55,
     "metadata": {},
     "output_type": "execute_result"
    }
   ],
   "source": [
    "arr[3::2]\n",
    "# 2 steps"
   ]
  },
  {
   "cell_type": "markdown",
   "id": "217c1cf5-66b1-44f6-b92f-6f5188dbc42d",
   "metadata": {},
   "source": [
    "### Numpy index and slicing of matrix"
   ]
  },
  {
   "cell_type": "code",
   "execution_count": 56,
   "id": "e3dc0098-ba5b-4b9f-a1f3-f52848dc450b",
   "metadata": {},
   "outputs": [],
   "source": [
    "arr = np.arange(1,31).reshape(6,5)"
   ]
  },
  {
   "cell_type": "code",
   "execution_count": 57,
   "id": "17396d92-2f58-44b9-863f-588763ba582b",
   "metadata": {},
   "outputs": [
    {
     "data": {
      "text/plain": [
       "array([[ 1,  2,  3,  4,  5],\n",
       "       [ 6,  7,  8,  9, 10],\n",
       "       [11, 12, 13, 14, 15],\n",
       "       [16, 17, 18, 19, 20],\n",
       "       [21, 22, 23, 24, 25],\n",
       "       [26, 27, 28, 29, 30]])"
      ]
     },
     "execution_count": 57,
     "metadata": {},
     "output_type": "execute_result"
    }
   ],
   "source": [
    "arr[0] #array([1, 2, 3, 4, 5])\n",
    "# first row\n",
    "arr"
   ]
  },
  {
   "cell_type": "code",
   "execution_count": 58,
   "id": "8528b544-328d-489c-8d3d-e0b65cd331f6",
   "metadata": {},
   "outputs": [
    {
     "data": {
      "text/plain": [
       "np.int64(1)"
      ]
     },
     "execution_count": 58,
     "metadata": {},
     "output_type": "execute_result"
    }
   ],
   "source": [
    "arr[0][0] #np.int64(1)"
   ]
  },
  {
   "cell_type": "code",
   "execution_count": 59,
   "id": "4844b25c-576d-4889-bccd-b167180c95e5",
   "metadata": {},
   "outputs": [
    {
     "data": {
      "text/plain": [
       "np.int64(1)"
      ]
     },
     "execution_count": 59,
     "metadata": {},
     "output_type": "execute_result"
    }
   ],
   "source": [
    "arr[0,0] #np.int64(1)"
   ]
  },
  {
   "cell_type": "code",
   "execution_count": 60,
   "id": "f38a5e6c-5601-4cdc-ade5-66e8b4def16d",
   "metadata": {},
   "outputs": [
    {
     "data": {
      "text/plain": [
       "np.int64(13)"
      ]
     },
     "execution_count": 60,
     "metadata": {},
     "output_type": "execute_result"
    }
   ],
   "source": [
    "arr[2,2]"
   ]
  },
  {
   "cell_type": "code",
   "execution_count": 61,
   "id": "bdb72ae8-b9e1-4ce7-8736-d420389ed641",
   "metadata": {},
   "outputs": [
    {
     "data": {
      "text/plain": [
       "array([[2, 3],\n",
       "       [7, 8]])"
      ]
     },
     "execution_count": 61,
     "metadata": {},
     "output_type": "execute_result"
    }
   ],
   "source": [
    "# slicing\n",
    "# 0,1 row and 1,2 col\n",
    "\n",
    "arr[0:2 , 1:3]\n",
    "#array([[2, 3],\n",
    "       #[7, 8]])"
   ]
  },
  {
   "cell_type": "code",
   "execution_count": 62,
   "id": "33a2f613-3dab-40c0-8105-20f92cb9b1df",
   "metadata": {},
   "outputs": [
    {
     "data": {
      "text/plain": [
       "array([[19, 20],\n",
       "       [24, 25],\n",
       "       [29, 30]])"
      ]
     },
     "execution_count": 62,
     "metadata": {},
     "output_type": "execute_result"
    }
   ],
   "source": [
    "arr[3:6 , 3:5]"
   ]
  },
  {
   "cell_type": "code",
   "execution_count": 63,
   "id": "8109d58b-a2a2-4409-897c-3bf259da6a1b",
   "metadata": {},
   "outputs": [
    {
     "data": {
      "text/plain": [
       "array([ 3,  8, 13, 18, 23, 28])"
      ]
     },
     "execution_count": 63,
     "metadata": {},
     "output_type": "execute_result"
    }
   ],
   "source": [
    "arr[:,2]\n",
    "#all rows and 2nd col"
   ]
  },
  {
   "cell_type": "markdown",
   "id": "b8718e55-a0d6-44b8-896f-a84c2eb32a88",
   "metadata": {},
   "source": [
    "### Boolean Indexing"
   ]
  },
  {
   "cell_type": "code",
   "execution_count": 64,
   "id": "53c62160-2c93-4846-8d8b-7c6ec7658bc5",
   "metadata": {},
   "outputs": [
    {
     "data": {
      "text/plain": [
       "array([11, 12, 13, 14, 15, 16, 17, 18, 19, 20])"
      ]
     },
     "execution_count": 64,
     "metadata": {},
     "output_type": "execute_result"
    }
   ],
   "source": [
    "arr = np.arange(11,21)\n",
    "arr"
   ]
  },
  {
   "cell_type": "code",
   "execution_count": 65,
   "id": "40c3d68a-dabd-4b23-83c2-ea5566e428c7",
   "metadata": {},
   "outputs": [
    {
     "data": {
      "text/plain": [
       "array([False,  True, False,  True, False,  True, False,  True, False,\n",
       "        True])"
      ]
     },
     "execution_count": 65,
     "metadata": {},
     "output_type": "execute_result"
    }
   ],
   "source": [
    "bool_index = arr%2 == 0\n",
    "bool_index\n",
    "#array([False,  True, False,  True, False,  True, False,  True, False,\n",
    "        #True])"
   ]
  },
  {
   "cell_type": "code",
   "execution_count": 66,
   "id": "daa0b989-1fcd-47dd-a7e9-6d4e2c17c88e",
   "metadata": {},
   "outputs": [
    {
     "data": {
      "text/plain": [
       "array([12, 14, 16, 18, 20])"
      ]
     },
     "execution_count": 66,
     "metadata": {},
     "output_type": "execute_result"
    }
   ],
   "source": [
    "arr = arr[bool_index]\n",
    "arr\n",
    "#array([12, 14, 16, 18, 20])"
   ]
  },
  {
   "cell_type": "markdown",
   "id": "3b5c4dbb-b8f3-4ea1-9ab8-9349707df6d9",
   "metadata": {},
   "source": [
    "### Array Operations"
   ]
  },
  {
   "cell_type": "markdown",
   "id": "d88cb458-322d-4fa7-8de3-c18b83d8f9a8",
   "metadata": {},
   "source": [
    "#### Arithematic operations"
   ]
  },
  {
   "cell_type": "code",
   "execution_count": 67,
   "id": "a5364b1d-a636-4c1d-adfd-015fbde99841",
   "metadata": {},
   "outputs": [
    {
     "data": {
      "text/plain": [
       "array([1, 2, 3, 4, 5])"
      ]
     },
     "execution_count": 67,
     "metadata": {},
     "output_type": "execute_result"
    }
   ],
   "source": [
    "a1 = np.array([1,2,3,4,5])\n",
    "a2 = np.array([6,7,8,9,10])\n",
    "a1"
   ]
  },
  {
   "cell_type": "code",
   "execution_count": 68,
   "id": "118f9283-6983-4068-b5f7-c280bb5076d6",
   "metadata": {},
   "outputs": [
    {
     "data": {
      "text/plain": [
       "array([ 6,  7,  8,  9, 10])"
      ]
     },
     "execution_count": 68,
     "metadata": {},
     "output_type": "execute_result"
    }
   ],
   "source": [
    "a2"
   ]
  },
  {
   "cell_type": "code",
   "execution_count": 69,
   "id": "4cf34e09-8244-4c34-8ea7-0ab474d6fde3",
   "metadata": {},
   "outputs": [
    {
     "data": {
      "text/plain": [
       "array([ 7,  9, 11, 13, 15])"
      ]
     },
     "execution_count": 69,
     "metadata": {},
     "output_type": "execute_result"
    }
   ],
   "source": [
    "arr2 = a1 + a2\n",
    "#element-wise additon with arrays with same no. of elements\n",
    "arr2"
   ]
  },
  {
   "cell_type": "code",
   "execution_count": 70,
   "id": "c3993cb6-13b7-4de6-b9cc-b635c85b6d69",
   "metadata": {},
   "outputs": [
    {
     "data": {
      "text/plain": [
       "array([-5, -5, -5, -5, -5])"
      ]
     },
     "execution_count": 70,
     "metadata": {},
     "output_type": "execute_result"
    }
   ],
   "source": [
    "a1 - a2"
   ]
  },
  {
   "cell_type": "code",
   "execution_count": 71,
   "id": "b57b19e9-dde1-45f0-8264-e93925e6f040",
   "metadata": {},
   "outputs": [
    {
     "data": {
      "text/plain": [
       "array([ 6, 14, 24, 36, 50])"
      ]
     },
     "execution_count": 71,
     "metadata": {},
     "output_type": "execute_result"
    }
   ],
   "source": [
    "a1*a2"
   ]
  },
  {
   "cell_type": "code",
   "execution_count": 72,
   "id": "14001606-af30-4f58-a293-478ca57e97d3",
   "metadata": {},
   "outputs": [
    {
     "data": {
      "text/plain": [
       "array([0.16666667, 0.28571429, 0.375     , 0.44444444, 0.5       ])"
      ]
     },
     "execution_count": 72,
     "metadata": {},
     "output_type": "execute_result"
    }
   ],
   "source": [
    "a1/a2"
   ]
  },
  {
   "cell_type": "code",
   "execution_count": 73,
   "id": "31d2011a-6805-4aac-bdc5-4341401b12ee",
   "metadata": {},
   "outputs": [
    {
     "data": {
      "text/plain": [
       "array([0, 0, 0, 0, 0])"
      ]
     },
     "execution_count": 73,
     "metadata": {},
     "output_type": "execute_result"
    }
   ],
   "source": [
    "a1//a2"
   ]
  },
  {
   "cell_type": "code",
   "execution_count": 74,
   "id": "3f6faf68-75e6-4f9c-bc22-ebf20856ef0c",
   "metadata": {},
   "outputs": [
    {
     "data": {
      "text/plain": [
       "array([      1,     128,    6561,  262144, 9765625])"
      ]
     },
     "execution_count": 74,
     "metadata": {},
     "output_type": "execute_result"
    }
   ],
   "source": [
    "a1**a2"
   ]
  },
  {
   "cell_type": "code",
   "execution_count": 75,
   "id": "e818c43c-2144-4b55-9d73-f67346660be5",
   "metadata": {},
   "outputs": [],
   "source": [
    "l = [10,20,30,40]\n",
    "arr = np.array(l)"
   ]
  },
  {
   "cell_type": "code",
   "execution_count": 76,
   "id": "9c1c6ab1-e238-4053-b3f1-a5f8a138d44e",
   "metadata": {},
   "outputs": [
    {
     "name": "stdout",
     "output_type": "stream",
     "text": [
      "20\n",
      "30\n",
      "40\n",
      "50\n"
     ]
    }
   ],
   "source": [
    "for i in l:\n",
    "    print(i+10)"
   ]
  },
  {
   "cell_type": "code",
   "execution_count": 77,
   "id": "f6e272a6-cafe-44e9-b7ff-8b9a6c93d5f2",
   "metadata": {},
   "outputs": [
    {
     "data": {
      "text/plain": [
       "array([20, 30, 40, 50])"
      ]
     },
     "execution_count": 77,
     "metadata": {},
     "output_type": "execute_result"
    }
   ],
   "source": [
    "# broadcasting saare array kai elements mai +10\n",
    "arr+10"
   ]
  },
  {
   "cell_type": "code",
   "execution_count": 78,
   "id": "218d4fb3-678d-4f66-bde7-7e7bb59529ed",
   "metadata": {},
   "outputs": [
    {
     "data": {
      "text/plain": [
       "array([[ 1,  2,  3,  4,  5],\n",
       "       [ 6,  7,  8,  9, 10],\n",
       "       [11, 12, 13, 14, 15],\n",
       "       [16, 17, 18, 19, 20],\n",
       "       [21, 22, 23, 24, 25]])"
      ]
     },
     "execution_count": 78,
     "metadata": {},
     "output_type": "execute_result"
    }
   ],
   "source": [
    "arr2 = np.arange(1,26).reshape(5,5)\n",
    "arr2"
   ]
  },
  {
   "cell_type": "code",
   "execution_count": 79,
   "id": "65f629de-1c1c-403a-8a27-ffb39bf7d0d6",
   "metadata": {},
   "outputs": [
    {
     "data": {
      "text/plain": [
       "array([[11, 12, 13, 14, 15],\n",
       "       [16, 17, 18, 19, 20],\n",
       "       [21, 22, 23, 24, 25],\n",
       "       [26, 27, 28, 29, 30],\n",
       "       [31, 32, 33, 34, 35]])"
      ]
     },
     "execution_count": 79,
     "metadata": {},
     "output_type": "execute_result"
    }
   ],
   "source": [
    "arr2 + 10"
   ]
  },
  {
   "cell_type": "markdown",
   "id": "064ed4ab-201f-45e3-961d-9466e5669eb8",
   "metadata": {},
   "source": [
    "#### Deep copy and Shallow copy"
   ]
  },
  {
   "cell_type": "code",
   "execution_count": 80,
   "id": "491882f6-e22b-4cd5-add1-a4445d4be87b",
   "metadata": {},
   "outputs": [
    {
     "data": {
      "text/plain": [
       "array([ 1,  2,  3,  4,  5,  6,  7,  8,  9, 10, 11, 12, 13, 14, 15, 16, 17,\n",
       "       18, 19, 20])"
      ]
     },
     "execution_count": 80,
     "metadata": {},
     "output_type": "execute_result"
    }
   ],
   "source": [
    "a = np.arange(1,21)\n",
    "a"
   ]
  },
  {
   "cell_type": "code",
   "execution_count": 81,
   "id": "11c7d4bb-249b-4a14-b71a-a451e3375b13",
   "metadata": {},
   "outputs": [
    {
     "data": {
      "text/plain": [
       "array([1, 2, 3, 4, 5])"
      ]
     },
     "execution_count": 81,
     "metadata": {},
     "output_type": "execute_result"
    }
   ],
   "source": [
    "slice = a[:5]\n",
    "slice"
   ]
  },
  {
   "cell_type": "code",
   "execution_count": 82,
   "id": "42a35842-aaeb-48ee-9a9c-a99641c6f0e1",
   "metadata": {},
   "outputs": [],
   "source": [
    "slice = slice*10"
   ]
  },
  {
   "cell_type": "code",
   "execution_count": 83,
   "id": "b9e39ea0-c1c0-45a9-9f12-e924ce88b519",
   "metadata": {},
   "outputs": [
    {
     "data": {
      "text/plain": [
       "array([10, 20, 30, 40, 50])"
      ]
     },
     "execution_count": 83,
     "metadata": {},
     "output_type": "execute_result"
    }
   ],
   "source": [
    "slice"
   ]
  },
  {
   "cell_type": "code",
   "execution_count": 84,
   "id": "9c049005-d1d2-4804-9d64-1c719a2779ab",
   "metadata": {},
   "outputs": [
    {
     "data": {
      "text/plain": [
       "array([ 1,  2,  3,  4,  5,  6,  7,  8,  9, 10, 11, 12, 13, 14, 15, 16, 17,\n",
       "       18, 19, 20])"
      ]
     },
     "execution_count": 84,
     "metadata": {},
     "output_type": "execute_result"
    }
   ],
   "source": [
    "a\n",
    "# no change in a there was a change in slice but not\n",
    "# in a\n",
    "# shallow copy"
   ]
  },
  {
   "cell_type": "code",
   "execution_count": 85,
   "id": "d652e22b-baa0-49ea-8aa4-95212a82fe38",
   "metadata": {},
   "outputs": [],
   "source": [
    "b=a\n",
    "# deep copy as if b changes a also changes"
   ]
  },
  {
   "cell_type": "code",
   "execution_count": 86,
   "id": "731dc778-f983-4fa9-9ac3-e8df7d7b679f",
   "metadata": {},
   "outputs": [],
   "source": [
    "b[0]=99"
   ]
  },
  {
   "cell_type": "code",
   "execution_count": 87,
   "id": "e3edb161-443e-40a4-a90c-6e6fc1828220",
   "metadata": {},
   "outputs": [
    {
     "data": {
      "text/plain": [
       "array([99,  2,  3,  4,  5,  6,  7,  8,  9, 10, 11, 12, 13, 14, 15, 16, 17,\n",
       "       18, 19, 20])"
      ]
     },
     "execution_count": 87,
     "metadata": {},
     "output_type": "execute_result"
    }
   ],
   "source": [
    "b"
   ]
  },
  {
   "cell_type": "code",
   "execution_count": 88,
   "id": "d5e48282-210e-486d-93d4-84d02cfe1070",
   "metadata": {},
   "outputs": [
    {
     "data": {
      "text/plain": [
       "array([99,  2,  3,  4,  5,  6,  7,  8,  9, 10, 11, 12, 13, 14, 15, 16, 17,\n",
       "       18, 19, 20])"
      ]
     },
     "execution_count": 88,
     "metadata": {},
     "output_type": "execute_result"
    }
   ],
   "source": [
    "a"
   ]
  },
  {
   "cell_type": "code",
   "execution_count": 89,
   "id": "715e1b5c-bb7f-4854-bf1e-579b1572b87a",
   "metadata": {},
   "outputs": [],
   "source": [
    "c=a.copy()\n",
    "# shallow copy if change in c no change in a"
   ]
  },
  {
   "cell_type": "code",
   "execution_count": 90,
   "id": "91f7517f-c6f8-49a7-b41b-7c82ca9dc3f2",
   "metadata": {},
   "outputs": [],
   "source": [
    "c[0]=1"
   ]
  },
  {
   "cell_type": "code",
   "execution_count": 91,
   "id": "b5f39e85-b1e6-4842-a0d4-6200a38e88fb",
   "metadata": {},
   "outputs": [
    {
     "data": {
      "text/plain": [
       "array([ 1,  2,  3,  4,  5,  6,  7,  8,  9, 10, 11, 12, 13, 14, 15, 16, 17,\n",
       "       18, 19, 20])"
      ]
     },
     "execution_count": 91,
     "metadata": {},
     "output_type": "execute_result"
    }
   ],
   "source": [
    "c"
   ]
  },
  {
   "cell_type": "code",
   "execution_count": 92,
   "id": "48607eff-d186-4e86-80f3-742928ad6afa",
   "metadata": {},
   "outputs": [
    {
     "data": {
      "text/plain": [
       "array([99,  2,  3,  4,  5,  6,  7,  8,  9, 10, 11, 12, 13, 14, 15, 16, 17,\n",
       "       18, 19, 20])"
      ]
     },
     "execution_count": 92,
     "metadata": {},
     "output_type": "execute_result"
    }
   ],
   "source": [
    "a"
   ]
  },
  {
   "cell_type": "markdown",
   "id": "057f5e4d-7132-4a84-8210-9efe63eb3364",
   "metadata": {},
   "source": [
    "#### Matrix Operations"
   ]
  },
  {
   "cell_type": "code",
   "execution_count": 93,
   "id": "1f8bdf13-c0ae-4b12-b16b-a21ebafeab59",
   "metadata": {},
   "outputs": [],
   "source": [
    "A = np.array([[1,2],[3,4]])\n",
    "B = np.array([[5,6],[7,8]])\n"
   ]
  },
  {
   "cell_type": "code",
   "execution_count": 94,
   "id": "285665c5-d4fe-4bb2-b990-89a30f48e646",
   "metadata": {},
   "outputs": [
    {
     "data": {
      "text/plain": [
       "array([[1, 2],\n",
       "       [3, 4]])"
      ]
     },
     "execution_count": 94,
     "metadata": {},
     "output_type": "execute_result"
    }
   ],
   "source": [
    "A"
   ]
  },
  {
   "cell_type": "code",
   "execution_count": 95,
   "id": "8067ebfe-bd74-4a2b-8bb3-89b979b7853a",
   "metadata": {},
   "outputs": [
    {
     "data": {
      "text/plain": [
       "array([[5, 6],\n",
       "       [7, 8]])"
      ]
     },
     "execution_count": 95,
     "metadata": {},
     "output_type": "execute_result"
    }
   ],
   "source": [
    "B"
   ]
  },
  {
   "cell_type": "code",
   "execution_count": 96,
   "id": "610725b8-39be-41d6-991a-70342668e5b2",
   "metadata": {},
   "outputs": [
    {
     "data": {
      "text/plain": [
       "array([[ 5, 12],\n",
       "       [21, 32]])"
      ]
     },
     "execution_count": 96,
     "metadata": {},
     "output_type": "execute_result"
    }
   ],
   "source": [
    "A*B\n",
    "# element wise multiplication not matrix multiplication"
   ]
  },
  {
   "cell_type": "code",
   "execution_count": 97,
   "id": "61b186a3-c570-4c08-9611-aeaade4d79a8",
   "metadata": {},
   "outputs": [
    {
     "data": {
      "text/plain": [
       "array([[19, 22],\n",
       "       [43, 50]])"
      ]
     },
     "execution_count": 97,
     "metadata": {},
     "output_type": "execute_result"
    }
   ],
   "source": [
    "A @ B\n",
    "# matrix multiplication row by column"
   ]
  },
  {
   "cell_type": "code",
   "execution_count": 98,
   "id": "23e54884-3756-4384-b5c4-42636b911863",
   "metadata": {},
   "outputs": [
    {
     "data": {
      "text/plain": [
       "array([[19, 22],\n",
       "       [43, 50]])"
      ]
     },
     "execution_count": 98,
     "metadata": {},
     "output_type": "execute_result"
    }
   ],
   "source": [
    "np.dot(A,B)\n",
    "# same as A @ B"
   ]
  },
  {
   "cell_type": "code",
   "execution_count": 99,
   "id": "0ab1eb70-15dd-43a1-bf69-810300d6d77b",
   "metadata": {},
   "outputs": [
    {
     "data": {
      "text/plain": [
       "array([[1, 2],\n",
       "       [3, 4]])"
      ]
     },
     "execution_count": 99,
     "metadata": {},
     "output_type": "execute_result"
    }
   ],
   "source": [
    "A"
   ]
  },
  {
   "cell_type": "code",
   "execution_count": 100,
   "id": "a3ee8b9f-85e2-4b49-b9e1-2d91f4aa216a",
   "metadata": {},
   "outputs": [
    {
     "data": {
      "text/plain": [
       "array([[1, 3],\n",
       "       [2, 4]])"
      ]
     },
     "execution_count": 100,
     "metadata": {},
     "output_type": "execute_result"
    }
   ],
   "source": [
    "np.transpose(A)\n",
    "# row becomes column"
   ]
  },
  {
   "cell_type": "code",
   "execution_count": 101,
   "id": "095fa5a3-0216-4e96-bffc-15e005d5fde0",
   "metadata": {},
   "outputs": [
    {
     "data": {
      "text/plain": [
       "array([[1, 3],\n",
       "       [2, 4]])"
      ]
     },
     "execution_count": 101,
     "metadata": {},
     "output_type": "execute_result"
    }
   ],
   "source": [
    "A.T\n",
    "# same as np.transpose(A)"
   ]
  },
  {
   "cell_type": "markdown",
   "id": "ecf29b75-8325-435a-8687-b37df7850cd7",
   "metadata": {},
   "source": [
    "#### Advanced array manipulation"
   ]
  },
  {
   "cell_type": "markdown",
   "id": "4fe34242-c1c3-4ad2-bb6f-79ae2fde7743",
   "metadata": {},
   "source": [
    "##### stacking Array"
   ]
  },
  {
   "cell_type": "code",
   "execution_count": 104,
   "id": "3a109d13-e905-423c-a11f-5309d1e70555",
   "metadata": {},
   "outputs": [],
   "source": [
    "\n",
    "a = np.array([1,2,3,4])\n",
    "b = np.array([5,6,7,8])"
   ]
  },
  {
   "cell_type": "code",
   "execution_count": 115,
   "id": "a690722a-4cbf-4723-abca-aada96b34ce3",
   "metadata": {},
   "outputs": [
    {
     "data": {
      "text/plain": [
       "array([[1, 2, 3, 4],\n",
       "       [5, 6, 7, 8]])"
      ]
     },
     "execution_count": 115,
     "metadata": {},
     "output_type": "execute_result"
    }
   ],
   "source": [
    "np.vstack((a,b))# vertical stack\n",
    "#array([[1, 2, 3, 4],\n",
    "#       [5, 6, 7, 8]])"
   ]
  },
  {
   "cell_type": "code",
   "execution_count": 116,
   "id": "369639c2-3507-4df3-8904-e76711f217d6",
   "metadata": {},
   "outputs": [
    {
     "data": {
      "text/plain": [
       "array([1, 2, 3, 4, 5, 6, 7, 8])"
      ]
     },
     "execution_count": 116,
     "metadata": {},
     "output_type": "execute_result"
    }
   ],
   "source": [
    "np.hstack((a,b))# horizontal stack\n",
    "#array([1, 2, 3, 4, 5, 6, 7, 8])"
   ]
  },
  {
   "cell_type": "code",
   "execution_count": 117,
   "id": "2e72e7e6-9dd2-43f7-a49b-2280f237b717",
   "metadata": {},
   "outputs": [
    {
     "data": {
      "text/plain": [
       "array([[1, 5],\n",
       "       [2, 6],\n",
       "       [3, 7],\n",
       "       [4, 8]])"
      ]
     },
     "execution_count": 117,
     "metadata": {},
     "output_type": "execute_result"
    }
   ],
   "source": [
    "np.column_stack((a,b))\n",
    "#array([[1, 5],\n",
    "#       [2, 6],\n",
    " #      [3, 7],\n",
    " #      [4, 8]])\n"
   ]
  },
  {
   "cell_type": "markdown",
   "id": "aa7d1372-09e1-4660-b395-4139514a3aec",
   "metadata": {},
   "source": [
    "#### splitting array"
   ]
  },
  {
   "cell_type": "code",
   "execution_count": 118,
   "id": "98723d2d-a769-489d-be16-0c783874cac8",
   "metadata": {},
   "outputs": [],
   "source": [
    "c = np.arange(16).reshape(4,4)"
   ]
  },
  {
   "cell_type": "code",
   "execution_count": 119,
   "id": "2fbe6c6d-7dda-44d4-b1d1-8f4938f5e8ef",
   "metadata": {},
   "outputs": [
    {
     "data": {
      "text/plain": [
       "array([[ 0,  1,  2,  3],\n",
       "       [ 4,  5,  6,  7],\n",
       "       [ 8,  9, 10, 11],\n",
       "       [12, 13, 14, 15]])"
      ]
     },
     "execution_count": 119,
     "metadata": {},
     "output_type": "execute_result"
    }
   ],
   "source": [
    "c"
   ]
  },
  {
   "cell_type": "code",
   "execution_count": 122,
   "id": "b4267266-fcfd-41fc-9aba-3fb6bcd1bed8",
   "metadata": {},
   "outputs": [
    {
     "data": {
      "text/plain": [
       "[array([[ 0,  1],\n",
       "        [ 4,  5],\n",
       "        [ 8,  9],\n",
       "        [12, 13]]),\n",
       " array([[ 2,  3],\n",
       "        [ 6,  7],\n",
       "        [10, 11],\n",
       "        [14, 15]])]"
      ]
     },
     "execution_count": 122,
     "metadata": {},
     "output_type": "execute_result"
    }
   ],
   "source": [
    "np.hsplit(c,2)# horizontal split\n",
    "#[array([[ 0,  1],\n",
    " #       [ 4,  5],\n",
    "  #      [ 8,  9],\n",
    "   #     [12, 13]]),\n",
    " #array([[ 2,  3],\n",
    "  #      [ 6,  7],\n",
    "   #     [10, 11],\n",
    "    #    [14, 15]])]\n",
    "#split based upon columns"
   ]
  },
  {
   "cell_type": "code",
   "execution_count": 125,
   "id": "3850eb98-e34a-4660-a5da-c27b4d5e8c84",
   "metadata": {},
   "outputs": [],
   "source": [
    "a = np.vsplit(c,2)# vertical split\n",
    "#[array([[0, 1, 2, 3],\n",
    "#        [4, 5, 6, 7]]),\n",
    "#array([[ 8,  9, 10, 11],\n",
    "#       [12, 13, 14, 15]])]"
   ]
  },
  {
   "cell_type": "code",
   "execution_count": 126,
   "id": "d96044af-7be3-41b0-a554-6b27c38720cd",
   "metadata": {},
   "outputs": [
    {
     "name": "stdout",
     "output_type": "stream",
     "text": [
      "[[0 1 2 3]\n",
      " [4 5 6 7]]\n",
      "[[ 8  9 10 11]\n",
      " [12 13 14 15]]\n"
     ]
    }
   ],
   "source": [
    "for i in a:\n",
    "    print(i)"
   ]
  },
  {
   "cell_type": "markdown",
   "id": "144928ee-ec80-44aa-bd7f-db8a3cb998f8",
   "metadata": {},
   "source": [
    "#### Valid Sudoku"
   ]
  },
  {
   "cell_type": "code",
   "execution_count": 127,
   "id": "d3602074-a163-46e9-a5ec-4c13cd22c66e",
   "metadata": {},
   "outputs": [],
   "source": [
    "s = np.array([\n",
    "    [5, 3, 4, 6, 7, 8, 9, 1, 2],\n",
    "    [6, 7, 2, 1, 9, 5, 3, 4, 8],\n",
    "    [1, 9, 8, 3, 4, 2, 5, 6, 7],\n",
    "    \n",
    "    [8, 5, 9, 7, 6, 1, 4, 2, 3],\n",
    "    [4, 2, 6, 8, 5, 3, 7, 9, 1],\n",
    "    [7, 1, 3, 9, 2, 4, 8, 5, 6],\n",
    "    \n",
    "    [9, 6, 1, 5, 3, 7, 2, 8, 4],\n",
    "    [2, 8, 7, 4, 1, 9, 6, 3, 5],\n",
    "    [3, 4, 5, 2, 8, 6, 1, 7, 9]\n",
    "])"
   ]
  },
  {
   "cell_type": "code",
   "execution_count": 128,
   "id": "6f680971-7205-4fb1-ad01-ec567b9e89d7",
   "metadata": {},
   "outputs": [
    {
     "data": {
      "text/plain": [
       "array([[5, 3, 4, 6, 7, 8, 9, 1, 2],\n",
       "       [6, 7, 2, 1, 9, 5, 3, 4, 8],\n",
       "       [1, 9, 8, 3, 4, 2, 5, 6, 7],\n",
       "       [8, 5, 9, 7, 6, 1, 4, 2, 3],\n",
       "       [4, 2, 6, 8, 5, 3, 7, 9, 1],\n",
       "       [7, 1, 3, 9, 2, 4, 8, 5, 6],\n",
       "       [9, 6, 1, 5, 3, 7, 2, 8, 4],\n",
       "       [2, 8, 7, 4, 1, 9, 6, 3, 5],\n",
       "       [3, 4, 5, 2, 8, 6, 1, 7, 9]])"
      ]
     },
     "execution_count": 128,
     "metadata": {},
     "output_type": "execute_result"
    }
   ],
   "source": [
    "s"
   ]
  },
  {
   "cell_type": "code",
   "execution_count": 137,
   "id": "534bda9f-afe2-4da1-9b5c-7402ed7b4c2c",
   "metadata": {},
   "outputs": [
    {
     "name": "stdout",
     "output_type": "stream",
     "text": [
      "Valid sudoku for columns\n"
     ]
    }
   ],
   "source": [
    "# sum of all rows is 45 and also for columns as\n",
    "# 1+2+3+4+5+6+7+8+9 = 45\n",
    "l1 = np.sum(s,axis = 0)\n",
    "for i in l1:\n",
    "    if i!=45:\n",
    "        print(\"Not a valid sudoku for columns\")\n",
    "        break\n",
    "else:\n",
    "    print(\"Valid sudoku for columns\")"
   ]
  },
  {
   "cell_type": "code",
   "execution_count": 139,
   "id": "c6424a78-6370-4f05-af6e-30c5e554e5fb",
   "metadata": {},
   "outputs": [
    {
     "name": "stdout",
     "output_type": "stream",
     "text": [
      "Valid sudoku for rows\n"
     ]
    }
   ],
   "source": [
    "l2 = np.sum(s,axis = 1)\n",
    "for i in l2:\n",
    "    if i!=45:\n",
    "        print(\"Not a valid sudoku for rows\")\n",
    "        break\n",
    "else:\n",
    "    print(\"Valid sudoku for rows\")"
   ]
  },
  {
   "cell_type": "code",
   "execution_count": null,
   "id": "59116685-f17b-4420-8bf5-44a3d87544ab",
   "metadata": {},
   "outputs": [],
   "source": [
    "# check in 3X3 block "
   ]
  },
  {
   "cell_type": "code",
   "execution_count": 140,
   "id": "b1d811c4-a02f-4e4e-8486-cd617053d9ca",
   "metadata": {},
   "outputs": [
    {
     "data": {
      "text/plain": [
       "array([[5, 3, 4],\n",
       "       [6, 7, 2],\n",
       "       [1, 9, 8]])"
      ]
     },
     "execution_count": 140,
     "metadata": {},
     "output_type": "execute_result"
    }
   ],
   "source": [
    "s[0:3 , 0:3]"
   ]
  },
  {
   "cell_type": "code",
   "execution_count": 141,
   "id": "cdc8b5ae-688c-4881-b7f0-f13bbf949e14",
   "metadata": {},
   "outputs": [
    {
     "data": {
      "text/plain": [
       "array([[6, 7, 8],\n",
       "       [1, 9, 5],\n",
       "       [3, 4, 2]])"
      ]
     },
     "execution_count": 141,
     "metadata": {},
     "output_type": "execute_result"
    }
   ],
   "source": [
    "s[0:3 , 3:6]"
   ]
  },
  {
   "cell_type": "code",
   "execution_count": 142,
   "id": "b7931c25-21ea-45b8-8981-1d44a2dac884",
   "metadata": {},
   "outputs": [
    {
     "data": {
      "text/plain": [
       "array([[9, 1, 2],\n",
       "       [3, 4, 8],\n",
       "       [5, 6, 7]])"
      ]
     },
     "execution_count": 142,
     "metadata": {},
     "output_type": "execute_result"
    }
   ],
   "source": [
    "s[0:3 , 6:9]"
   ]
  },
  {
   "cell_type": "code",
   "execution_count": 143,
   "id": "fc0cc1d7-d016-4ce9-9fff-9ecb9d8757be",
   "metadata": {},
   "outputs": [
    {
     "data": {
      "text/plain": [
       "array([[8, 5, 9],\n",
       "       [4, 2, 6],\n",
       "       [7, 1, 3]])"
      ]
     },
     "execution_count": 143,
     "metadata": {},
     "output_type": "execute_result"
    }
   ],
   "source": [
    "s[3:6 , 0:3]"
   ]
  },
  {
   "cell_type": "code",
   "execution_count": 144,
   "id": "d76bf0ef-7eb9-450d-995d-d52dc24b458b",
   "metadata": {},
   "outputs": [
    {
     "data": {
      "text/plain": [
       "array([[7, 6, 1],\n",
       "       [8, 5, 3],\n",
       "       [9, 2, 4]])"
      ]
     },
     "execution_count": 144,
     "metadata": {},
     "output_type": "execute_result"
    }
   ],
   "source": [
    "s[3:6 , 3:6]"
   ]
  },
  {
   "cell_type": "code",
   "execution_count": 145,
   "id": "3746462d-7e26-4f79-b880-3c3a96715f94",
   "metadata": {},
   "outputs": [
    {
     "data": {
      "text/plain": [
       "array([[4, 2, 3],\n",
       "       [7, 9, 1],\n",
       "       [8, 5, 6]])"
      ]
     },
     "execution_count": 145,
     "metadata": {},
     "output_type": "execute_result"
    }
   ],
   "source": [
    "s[3:6 , 6:9]"
   ]
  },
  {
   "cell_type": "code",
   "execution_count": 146,
   "id": "fa66eaae-dec9-44b7-92ac-7a82ea071ce0",
   "metadata": {},
   "outputs": [
    {
     "data": {
      "text/plain": [
       "array([[9, 6, 1],\n",
       "       [2, 8, 7],\n",
       "       [3, 4, 5]])"
      ]
     },
     "execution_count": 146,
     "metadata": {},
     "output_type": "execute_result"
    }
   ],
   "source": [
    "s[6:9 , 0:3]"
   ]
  },
  {
   "cell_type": "code",
   "execution_count": 147,
   "id": "c8ca7e65-51b1-4287-a98b-07f60763bda4",
   "metadata": {},
   "outputs": [
    {
     "data": {
      "text/plain": [
       "array([[5, 3, 7],\n",
       "       [4, 1, 9],\n",
       "       [2, 8, 6]])"
      ]
     },
     "execution_count": 147,
     "metadata": {},
     "output_type": "execute_result"
    }
   ],
   "source": [
    "s[6:9 , 3:6]"
   ]
  },
  {
   "cell_type": "code",
   "execution_count": 148,
   "id": "e777fa38-8868-4b85-b5ff-0077f3732217",
   "metadata": {},
   "outputs": [
    {
     "data": {
      "text/plain": [
       "array([[2, 8, 4],\n",
       "       [6, 3, 5],\n",
       "       [1, 7, 9]])"
      ]
     },
     "execution_count": 148,
     "metadata": {},
     "output_type": "execute_result"
    }
   ],
   "source": [
    "s[6:9 , 6:9]"
   ]
  },
  {
   "cell_type": "code",
   "execution_count": 157,
   "id": "15a791d3-5791-4f44-9bd9-6b51f2cd9f5d",
   "metadata": {},
   "outputs": [
    {
     "name": "stdout",
     "output_type": "stream",
     "text": [
      "45\n",
      "45\n",
      "45\n",
      "45\n",
      "45\n",
      "45\n",
      "45\n",
      "45\n",
      "45\n"
     ]
    }
   ],
   "source": [
    "for i in range(0,9,3):\n",
    "    for j in range(0,9,3):\n",
    "        n = (s[i : i+3 , j : j+3 ])\n",
    "        print((n.sum()))\n"
   ]
  },
  {
   "cell_type": "markdown",
   "id": "472e6020-049e-4ad7-b3ca-dcb007ed4846",
   "metadata": {},
   "source": [
    "#### General Questions"
   ]
  },
  {
   "cell_type": "code",
   "execution_count": 210,
   "id": "6c45f4c9-c4cd-4485-9b77-b278c42c7e14",
   "metadata": {},
   "outputs": [],
   "source": [
    "import numpy as np\n",
    "\n",
    "# Columns: [Age, Math Marks, Science Marks]\n",
    "data = np.array([\n",
    "    [18, 85, 78],   # Student 1\n",
    "    [19, 92, 88],   # Student 2\n",
    "    [17, 76, 95],   # Student 3\n",
    "    [18, 65, 70],   # Student 4\n",
    "    [20, 90, 85]    # Student 5\n",
    "])"
   ]
  },
  {
   "cell_type": "code",
   "execution_count": 211,
   "id": "c6ddfd3b-cc42-4ed8-abeb-9dc08ae9bf7c",
   "metadata": {},
   "outputs": [
    {
     "data": {
      "text/plain": [
       "(5, 3)"
      ]
     },
     "execution_count": 211,
     "metadata": {},
     "output_type": "execute_result"
    }
   ],
   "source": [
    "# Get the shape of the matrix.\n",
    "data.shape"
   ]
  },
  {
   "cell_type": "code",
   "execution_count": 212,
   "id": "123687d6-eb0a-4022-b739-5e28c642d8fc",
   "metadata": {},
   "outputs": [
    {
     "name": "stdout",
     "output_type": "stream",
     "text": [
      "18.4\n"
     ]
    }
   ],
   "source": [
    "#Find the average age of students\n",
    "n = (data[:,0])\n",
    "sum=0\n",
    "for i in n:\n",
    "    sum+=i\n",
    "print(sum / len(n))"
   ]
  },
  {
   "cell_type": "code",
   "execution_count": 213,
   "id": "d4727807-0f91-4611-a7e0-b0e531bed6ed",
   "metadata": {},
   "outputs": [
    {
     "data": {
      "text/plain": [
       "np.float64(18.4)"
      ]
     },
     "execution_count": 213,
     "metadata": {},
     "output_type": "execute_result"
    }
   ],
   "source": [
    "#Find the average age of students\n",
    "np.mean(data[:,0])"
   ]
  },
  {
   "cell_type": "code",
   "execution_count": 214,
   "id": "f0b8b7da-718a-4786-a1bf-dafffd7c4f7c",
   "metadata": {},
   "outputs": [
    {
     "name": "stdout",
     "output_type": "stream",
     "text": [
      "[85 92 76 65 90]\n",
      "81.6\n"
     ]
    }
   ],
   "source": [
    "#Extract Math marks of all students.\n",
    "print(data[:,1])\n",
    "print(np.mean(data[:,1]))\n"
   ]
  },
  {
   "cell_type": "code",
   "execution_count": 215,
   "id": "d9c6e6ef-bc18-495c-972c-d63be0f61757",
   "metadata": {},
   "outputs": [
    {
     "name": "stdout",
     "output_type": "stream",
     "text": [
      "95\n"
     ]
    }
   ],
   "source": [
    "#Find the highest Science mark.\n",
    "m = data[:,2]\n",
    "print(m.max())"
   ]
  },
  {
   "cell_type": "code",
   "execution_count": 216,
   "id": "b001bb25-4233-46a8-9ff6-d202b62cafe8",
   "metadata": {},
   "outputs": [
    {
     "data": {
      "text/plain": [
       "np.int64(95)"
      ]
     },
     "execution_count": 216,
     "metadata": {},
     "output_type": "execute_result"
    }
   ],
   "source": [
    "np.max(data[:,2])"
   ]
  },
  {
   "cell_type": "code",
   "execution_count": 217,
   "id": "1f4aa791-e271-472a-bc39-d31451659a96",
   "metadata": {},
   "outputs": [
    {
     "data": {
      "text/plain": [
       "array([[19, 92, 88]])"
      ]
     },
     "execution_count": 217,
     "metadata": {},
     "output_type": "execute_result"
    }
   ],
   "source": [
    "#Get details of the student who scored more than 90 in Math.\n",
    "data[data[:,1]>90]\n",
    "    "
   ]
  },
  {
   "cell_type": "code",
   "execution_count": 218,
   "id": "14c4087b-796c-4a5c-9923-d1a15922dafb",
   "metadata": {},
   "outputs": [
    {
     "data": {
      "text/plain": [
       "array([[18, 90, 78],\n",
       "       [19, 97, 88],\n",
       "       [17, 81, 95],\n",
       "       [18, 70, 70],\n",
       "       [20, 95, 85]])"
      ]
     },
     "execution_count": 218,
     "metadata": {},
     "output_type": "execute_result"
    }
   ],
   "source": [
    "#Increase Math marks of all students by 5.\n",
    "data[:,1]+=5\n",
    "data"
   ]
  },
  {
   "cell_type": "code",
   "execution_count": 219,
   "id": "c188a7ac-d3c9-428f-b82a-326f904d4777",
   "metadata": {},
   "outputs": [
    {
     "name": "stdout",
     "output_type": "stream",
     "text": [
      "[ True False  True  True False]\n",
      "[[18 90 78]\n",
      " [17 81 95]\n",
      " [18 70 70]]\n",
      "3\n"
     ]
    }
   ],
   "source": [
    "#Find how many students are younger than 19.\n",
    "print(data[:,0]<19)\n",
    "print(data[data[:,0]<19])\n",
    "print(len(data[data[:,0]<19]))\n"
   ]
  },
  {
   "cell_type": "code",
   "execution_count": 220,
   "id": "a59ad8c2-3b1c-42b4-bb70-4c120317991f",
   "metadata": {},
   "outputs": [
    {
     "name": "stdout",
     "output_type": "stream",
     "text": [
      "86.6 are average maths marks\n",
      "83.2 are average science marks\n"
     ]
    }
   ],
   "source": [
    "#Calculate the average marks in each subject (column-wise mean).\n",
    "print(f\"{np.mean(data[:,1], axis = 0)} are average maths marks\")\n",
    "print(f\"{np.mean(data[:,2], axis = 0)} are average science marks\")\n"
   ]
  },
  {
   "cell_type": "code",
   "execution_count": 221,
   "id": "1b89237f-1f0c-4042-9dd6-986c9c086378",
   "metadata": {},
   "outputs": [
    {
     "name": "stdout",
     "output_type": "stream",
     "text": [
      "[ True  True  True False  True]\n",
      "[False  True  True False  True]\n"
     ]
    },
    {
     "data": {
      "text/plain": [
       "array([[19, 97, 88],\n",
       "       [17, 81, 95],\n",
       "       [20, 95, 85]])"
      ]
     },
     "execution_count": 221,
     "metadata": {},
     "output_type": "execute_result"
    }
   ],
   "source": [
    "#Get data of students who scored at least 80 in both subjects.\n",
    "print(data[:,1]>=80)\n",
    "print(data[:,2]>=80)\n",
    "\n",
    "data[(data[:,1]>=80) & (data[:,2]>=80)]# here & diff."
   ]
  },
  {
   "cell_type": "code",
   "execution_count": 222,
   "id": "eef002a1-09e5-4b0b-af47-e4d788c7c133",
   "metadata": {},
   "outputs": [
    {
     "data": {
      "text/plain": [
       "array([False, False, False,  True, False])"
      ]
     },
     "execution_count": 222,
     "metadata": {},
     "output_type": "execute_result"
    }
   ],
   "source": [
    "#Replace all Science marks < 75 with 0.\n",
    "data[:,2]<75"
   ]
  },
  {
   "cell_type": "code",
   "execution_count": 223,
   "id": "678926b6-41cd-4503-897e-6de0d942d4b0",
   "metadata": {},
   "outputs": [],
   "source": [
    "data[:,2][data[:,2]<75]=0"
   ]
  },
  {
   "cell_type": "code",
   "execution_count": 224,
   "id": "9d81ac8f-1141-44eb-8b3b-6783e5bb7574",
   "metadata": {},
   "outputs": [
    {
     "data": {
      "text/plain": [
       "array([[18, 90, 78],\n",
       "       [19, 97, 88],\n",
       "       [17, 81, 95],\n",
       "       [18, 70,  0],\n",
       "       [20, 95, 85]])"
      ]
     },
     "execution_count": 224,
     "metadata": {},
     "output_type": "execute_result"
    }
   ],
   "source": [
    "data"
   ]
  }
 ],
 "metadata": {
  "kernelspec": {
   "display_name": "Python [conda env:base] *",
   "language": "python",
   "name": "conda-base-py"
  },
  "language_info": {
   "codemirror_mode": {
    "name": "ipython",
    "version": 3
   },
   "file_extension": ".py",
   "mimetype": "text/x-python",
   "name": "python",
   "nbconvert_exporter": "python",
   "pygments_lexer": "ipython3",
   "version": "3.13.5"
  },
  "widgets": {
   "application/vnd.jupyter.widget-state+json": {
    "state": {},
    "version_major": 2,
    "version_minor": 0
   }
  }
 },
 "nbformat": 4,
 "nbformat_minor": 5
}
